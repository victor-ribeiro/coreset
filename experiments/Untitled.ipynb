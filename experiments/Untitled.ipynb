{
 "cells": [
  {
   "cell_type": "code",
   "execution_count": 3,
   "id": "d1fb95ec-04b7-4f4f-b592-c8e2bbacc1f1",
   "metadata": {},
   "outputs": [],
   "source": [
    "import pandas as pd\n",
    "import matplotlib.pyplot as plt\n",
    "import seaborn as sns\n",
    "\n",
    "from pathlib import Path"
   ]
  },
  {
   "cell_type": "code",
   "execution_count": 10,
   "id": "5f6c5cae-b8ec-4b69-af04-7112217dfc1c",
   "metadata": {},
   "outputs": [],
   "source": [
    "home = Path('.')\n",
    "\n",
    "# for file in home.rglob('.csv'):\n",
    "for file in home.rglob('*.csv'):\n",
    "    print(file)"
   ]
  },
  {
   "cell_type": "code",
   "execution_count": 13,
   "id": "ded45c80-e10c-4c80-95ed-8327ef1e05f6",
   "metadata": {},
   "outputs": [
    {
     "data": {
      "text/plain": [
       "[PosixPath('spotify/__main__.py'),\n",
       " PosixPath('nursery/__main__.py'),\n",
       " PosixPath('adult/__main__.py')]"
      ]
     },
     "execution_count": 13,
     "metadata": {},
     "output_type": "execute_result"
    }
   ],
   "source": [
    "[*home.rglob('*.py')]"
   ]
  },
  {
   "cell_type": "code",
   "execution_count": null,
   "id": "81b879a4-c4cb-43d4-ae46-56707372a97e",
   "metadata": {},
   "outputs": [],
   "source": []
  }
 ],
 "metadata": {
  "kernelspec": {
   "display_name": "Python 3 (ipykernel)",
   "language": "python",
   "name": "python3"
  },
  "language_info": {
   "codemirror_mode": {
    "name": "ipython",
    "version": 3
   },
   "file_extension": ".py",
   "mimetype": "text/x-python",
   "name": "python",
   "nbconvert_exporter": "python",
   "pygments_lexer": "ipython3",
   "version": "3.12.2"
  }
 },
 "nbformat": 4,
 "nbformat_minor": 5
}
